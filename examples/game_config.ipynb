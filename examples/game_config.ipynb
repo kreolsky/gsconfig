{
 "cells": [
  {
   "cell_type": "markdown",
   "metadata": {},
   "source": [
    "### GameConfigLite"
   ]
  },
  {
   "cell_type": "code",
   "execution_count": null,
   "metadata": {},
   "outputs": [],
   "source": [
    "import gsconfig\n",
    "\n",
    "# document_id = '1cxzI4JJY-n4K5PJ4cd6TuNV4e5spt3q6W2X2Cj_gCrE'  # arena_config\n",
    "# document_id = '1a5326Sg3LYhzRGACp160zEdcvKirXMl5avP2USIq2PE'  # tables_config\n",
    "document_id = '1dbmmds9IIAqT2rDxXSPLm8g6VhEorS5_8_fvd6A22rs'  # lootbox_config\n",
    "\n",
    "config = gsconfig.GameConfigLite(document_id)\n",
    "config.set_parser_version('v1')\n",
    "\n",
    "# print(type(config))\n",
    "# print(type(config.spreadsheet))\n",
    "\n",
    "# Все актуальные к экспорту страницы конфига\n",
    "for page in config:\n",
    "    print(page.title, page.name, page.format, type(page))\n",
    "\n",
    "# Все страницы конфига\n",
    "# for page in config.pages():\n",
    "#     print(page.title, page.name, page.format)\n",
    "\n",
    "# Забрать содержимое конкретной (первой в списке) страницы\n",
    "page = config.page1\n",
    "print(page.title)\n",
    "\n",
    "print(page)\n",
    "\n",
    "# Сохранить все страницы конфига\n",
    "config.save('json')\n"
   ]
  },
  {
   "cell_type": "markdown",
   "metadata": {},
   "source": [
    "### GameConfig"
   ]
  },
  {
   "cell_type": "code",
   "execution_count": null,
   "metadata": {},
   "outputs": [],
   "source": [
    "import gsconfig\n",
    "\n",
    "document_ids = {\n",
    "    'one': '1w03vUeO6SLUlfhkCa86hTbRGsZcynJxyFMONHUmGJp4',\n",
    "    'two': '1ZVIhyfrU2hsSf3ENO0efSAis2zW8FHLa-izi8o6J1oc',\n",
    "    'three': '1MwRGpqjImvDjBN2ScXFKnitmRll2CBKj3n2YSoolEaM',\n",
    "    'four': '1jSlEF1kLLkFYM36zaJsxWeDDhgo8YGfWKFMwJ2Ad4aA'\n",
    "}\n",
    "\n",
    "config = gsconfig.GameConfig(document_ids.values())\n",
    "\n",
    "for document in config:\n",
    "    print(document)\n",
    "\n"
   ]
  },
  {
   "cell_type": "code",
   "execution_count": null,
   "metadata": {},
   "outputs": [],
   "source": []
  }
 ],
 "metadata": {
  "kernelspec": {
   "display_name": "llm",
   "language": "python",
   "name": "python3"
  },
  "language_info": {
   "codemirror_mode": {
    "name": "ipython",
    "version": 3
   },
   "file_extension": ".py",
   "mimetype": "text/x-python",
   "name": "python",
   "nbconvert_exporter": "python",
   "pygments_lexer": "ipython3",
   "version": "3.10.13"
  }
 },
 "nbformat": 4,
 "nbformat_minor": 2
}
