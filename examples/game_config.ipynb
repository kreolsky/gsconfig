{
 "cells": [
  {
   "cell_type": "code",
   "execution_count": 3,
   "metadata": {},
   "outputs": [],
   "source": [
    "documents_ids_dict = {\n",
    "    'tables': '1a5326Sg3LYhzRGACp160zEdcvKirXMl5avP2USIq2PE',\n",
    "    'lootbox': '1dbmmds9IIAqT2rDxXSPLm8g6VhEorS5_8_fvd6A22rs',\n",
    "    'freechips': '1yBJUmNDj9yjJCl6X8HYe1XpjUL_Ju55MqoEngLbQqnw',\n",
    "    'arena': '1cxzI4JJY-n4K5PJ4cd6TuNV4e5spt3q6W2X2Cj_gCrE'\n",
    "}\n"
   ]
  },
  {
   "cell_type": "markdown",
   "metadata": {},
   "source": [
    "### Аутентификация в табличках\n",
    "\n",
    "GameConfigLite и GameConfig использую клиент GoogleOauth для аутентификации. <br>\n",
    "См. документацию по gspread: https://docs.gspread.org/en/latest/oauth2.html"
   ]
  },
  {
   "cell_type": "markdown",
   "metadata": {},
   "source": [
    "### GameConfigLite"
   ]
  },
  {
   "cell_type": "code",
   "execution_count": null,
   "metadata": {},
   "outputs": [],
   "source": [
    "import gsconfig\n",
    "\n",
    "document_id = documents_ids_dict['freechips']\n",
    "\n",
    "config = gsconfig.GameConfigLite(document_id)\n",
    "config.set_parser_version('v1')\n",
    "\n",
    "# print(type(config))\n",
    "# print(type(config.spreadsheet))\n",
    "\n",
    "# Все актуальные к экспорту страницы конфига\n",
    "for page in config:\n",
    "    print(page.title, page.name, page.format, type(page))\n",
    "\n",
    "# Все страницы конфига\n",
    "# for page in config.pages():\n",
    "#     print(page.title, page.name, page.format)\n",
    "\n",
    "# Забрать содержимое конкретной (первой в списке) страницы\n",
    "page = config.page1\n",
    "print(page.title)\n",
    "\n",
    "print(page)\n",
    "\n",
    "# Сохранить все страницы конфига\n",
    "config.save('json')\n"
   ]
  },
  {
   "cell_type": "markdown",
   "metadata": {},
   "source": [
    "### GameConfig"
   ]
  },
  {
   "cell_type": "code",
   "execution_count": null,
   "metadata": {},
   "outputs": [],
   "source": [
    "import gsconfig\n",
    "\n",
    "document_ids = documents_ids_dict.values()\n",
    "\n",
    "config = gsconfig.GameConfig(document_ids.values())\n",
    "\n",
    "for document in config:\n",
    "    print(document)\n",
    "\n"
   ]
  },
  {
   "cell_type": "code",
   "execution_count": null,
   "metadata": {},
   "outputs": [],
   "source": []
  }
 ],
 "metadata": {
  "kernelspec": {
   "display_name": "llm",
   "language": "python",
   "name": "python3"
  },
  "language_info": {
   "codemirror_mode": {
    "name": "ipython",
    "version": 3
   },
   "file_extension": ".py",
   "mimetype": "text/x-python",
   "name": "python",
   "nbconvert_exporter": "python",
   "pygments_lexer": "ipython3",
   "version": "3.10.13"
  }
 },
 "nbformat": 4,
 "nbformat_minor": 2
}
