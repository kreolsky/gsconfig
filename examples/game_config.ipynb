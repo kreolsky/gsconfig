{
 "cells": [
  {
   "cell_type": "code",
   "execution_count": 3,
   "metadata": {},
   "outputs": [],
   "source": [
    "documents_ids_dict = {\n",
    "    'tables': '1a5326Sg3LYhzRGACp160zEdcvKirXMl5avP2USIq2PE',\n",
    "    'lootbox': '1dbmmds9IIAqT2rDxXSPLm8g6VhEorS5_8_fvd6A22rs',\n",
    "    'freechips': '1yBJUmNDj9yjJCl6X8HYe1XpjUL_Ju55MqoEngLbQqnw',\n",
    "    'arena': '1cxzI4JJY-n4K5PJ4cd6TuNV4e5spt3q6W2X2Cj_gCrE'\n",
    "}\n"
   ]
  },
  {
   "cell_type": "markdown",
   "metadata": {},
   "source": [
    "### Аутентификация в табличках\n",
    "\n",
    "GameConfigLite и GameConfig использую клиент GoogleOauth для аутентификации. <br>\n",
    "См. документацию по gspread: https://docs.gspread.org/en/latest/oauth2.html"
   ]
  },
  {
   "cell_type": "markdown",
   "metadata": {},
   "source": [
    "### GameConfigLite"
   ]
  },
  {
   "cell_type": "code",
   "execution_count": null,
   "metadata": {},
   "outputs": [],
   "source": [
    "import gsconfig\n",
    "\n",
    "document_id = documents_ids_dict['freechips']\n",
    "\n",
    "config = gsconfig.GameConfigLite(document_id)\n",
    "config.set_parser_version('v1')\n",
    "\n",
    "\"\"\"\n",
    "GameConfigLite наследуется от Document и состоит из обьектов Page непосредственно страниц с данными.\n",
    "\n",
    "## Основные страницы\n",
    "По умолчанию выгружаются только страницы доступные для экспорта. \n",
    "Название страницы состоит из имени и расширения коорое определяет формат.\n",
    "Если не указано, как формат по умолчанию будет сипользоваться raw - все данные будет выгружены как двумерный массив.\n",
    "Например: 'tables.json', 'chips'\n",
    "\n",
    "## Служебные страницы\n",
    "Служебные старницы конфигов (рассчеты и справочные данные) должны начинаться с символов ('#', '.')\n",
    "Например '#digest', '.calculator'\n",
    "Символы комментариев можно определить при создании обьекта конфига или через метод GameConfigLite.set_page_skip_letters(('#', '.'))\n",
    "\n",
    "## Итератор внутри страницы\n",
    "Доступен итератор по данным страницы если по ним можно итерироваться. См. примеры ниже.\n",
    "\n",
    "## Версия парсера\n",
    "См. подробности в converter.ipynb\n",
    "Версия по умолчанию 'v1'. Можно задать при создании обьекта или через метод GameConfigLite.set_parser_version('v2')\n",
    "\"\"\"\n",
    "\n",
    "# print(type(config))\n",
    "# print(type(config.spreadsheet))\n",
    "\n",
    "# Все актуальные к экспорту страницы конфига\n",
    "for page in config:\n",
    "    print(page.title, page.name, page.format, type(page))\n",
    "\n",
    "# Все страницы конфига\n",
    "# for page in config.pages():\n",
    "#     print(page.title, page.name, page.format)\n",
    "\n",
    "# Забрать содержимое конкретной (первой в списке) страницы\n",
    "page = config.page1\n",
    "print(page.title)\n",
    "\n",
    "# Смотри ниже описание параметров метода Page.get()\n",
    "print(page.get())\n",
    "\n",
    "# Сохранить все страницы конфига\n",
    "config.save('json')\n"
   ]
  },
  {
   "cell_type": "markdown",
   "metadata": {},
   "source": [
    "### Параметры метода get() обьекта Page (непосредственно страница с данными)"
   ]
  },
  {
   "cell_type": "code",
   "execution_count": null,
   "metadata": {},
   "outputs": [],
   "source": [
    "\"\"\"\n",
    "page.get()\n",
    "\n",
    "Возвращает данные в формате страницы. См. описание format ниже\n",
    "В случае, когда формат не указан возвращает сырые данные как двумерный массив.\n",
    "\n",
    "Понимает несколько схем компановки данных. Проверка по очереди:\n",
    "1. Указана схема данных (заголовки столбца ключей и данных). См. описание scheme ниже\n",
    "2. ДВЕ колонки. В первой строке есть ОБА ключа 'key' и 'value'\n",
    "3. Свободный формат, первая строка - ключи, все последуюшие - данные\n",
    "\n",
    "Схема в две колонки упрощенная версия формата со схемой. Результатом будет словарь \n",
    "с парами ключ = значение. В случае указания схемы, данные будут дополнительно \n",
    "завернуты в словари с названием столбца данных.\n",
    "\n",
    "format -- data storage format\n",
    "    json - collects into a dictionary and parses values\n",
    "    csv - returns data as a two-dimensional array. Always WITHOUT parsing!\n",
    "    raw - returns data as a two-dimensional array. Always WITHOUT parsing!\n",
    "\n",
    "mode -- whether to parse data or not\n",
    "    raw - data will always be returned WITHOUT parsing\n",
    "\n",
    "scheme -- схема хранения данных в несколько колонок на странице.\n",
    "    Словарь вида (Названия ключей словаря фиксированы!):\n",
    "    scheme = {\n",
    "        'key': 'key'  # Название столбца с данными\n",
    "        'data': [value_1, value_2]  # Список столбцов данных\n",
    "    }\n",
    "\n",
    "Параметры только для формата в ДВЕ колонки. \n",
    "Можно задать кастомные значения названия полей ключей и данных\n",
    "    key - заголовок столбца ключей\n",
    "    value - заголовок столбца данных\n",
    "\n",
    "**params - все параметры доступные для парсера ConfigJSONConverter.jsonify\n",
    "см примеры в converter.ipynb\n",
    "\"\"\""
   ]
  },
  {
   "cell_type": "markdown",
   "metadata": {},
   "source": [
    "### GameConfig"
   ]
  },
  {
   "cell_type": "code",
   "execution_count": null,
   "metadata": {},
   "outputs": [],
   "source": [
    "import gsconfig\n",
    "\n",
    "document_ids = documents_ids_dict.values()\n",
    "\n",
    "config = gsconfig.GameConfig(document_ids.values())\n",
    "\"\"\"\n",
    "GameConfig -> Documents -> Pages\n",
    "Конфиг состоит из нескольких документов (Document), каждый документ из страниц (Page). \n",
    "См. GameConfigLite для информации по страницам.\n",
    "\"\"\"\n",
    "\n",
    "for document in config:\n",
    "    print(document)\n"
   ]
  },
  {
   "cell_type": "code",
   "execution_count": null,
   "metadata": {},
   "outputs": [],
   "source": []
  }
 ],
 "metadata": {
  "kernelspec": {
   "display_name": "llm",
   "language": "python",
   "name": "python3"
  },
  "language_info": {
   "codemirror_mode": {
    "name": "ipython",
    "version": 3
   },
   "file_extension": ".py",
   "mimetype": "text/x-python",
   "name": "python",
   "nbconvert_exporter": "python",
   "pygments_lexer": "ipython3",
   "version": "3.10.13"
  }
 },
 "nbformat": 4,
 "nbformat_minor": 2
}
