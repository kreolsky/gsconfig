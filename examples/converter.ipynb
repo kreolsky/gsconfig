{
 "cells": [
  {
   "cell_type": "code",
   "execution_count": null,
   "metadata": {},
   "outputs": [],
   "source": [
    "import json\n",
    "import gsconfig\n",
    "\n",
    "strings_in = [\n",
    "    '0, 6| 7 = 7, zr = 0, one, tw = {2 = d}, tv = {2 = dv | 3 = tr} | a, b',\n",
    "    'i = nan, p = 100, {t = 4, e = 100, n = {{m = 4, r = 100}, n = name}}',\n",
    "    '{i = 4, p = 100}, {t = 4, e = 100, n = {{m = 4, r = 100}, n = name}}',\n",
    "    '[]',\n",
    "    '',\n",
    "    '[\"one\", [\"two\", 3, 4], {\"one\": \"the choose one!\"}]',\n",
    "    'one!list = {two, one}, item = {count = 4.5, price = 100, name!list = {n = m, l = o}}',\n",
    "    'one!flist = {two, one}, item = {count = 4.5, price = 100, name = {n = m, l = o}}',\n",
    "    'one = {two, one}, item = {itemsCount = 4.5, price = 100.123456, name!list = {name1 = my_name}}',\n",
    "    'one!list = two, item = {itemsCount!list = 4.5, price = 100.123456, name = {name1 = my_name, second = other}}, six!list = {name3 = my_thirs_name, second = other}, test = {itemsCount = 4, price = 100, name!list = {{itemsCount = 4, price = 100}, name!list = {count = 4, total = 10}}}, count = 4, total = 10',\n",
    "    '9.1, 6.0, 6| 7 = 7, zero = 0, one, two = {2 = dva}, tree = {2 = dva | 3 = tree} | a, b, f',\n",
    "    '{9.1, 6.0, 6}, {7 = 7, zero = 0, one, two = {2 = dva}, tree = {{2 = dva}, {3 = tree}}}, {a, b, f}',\n",
    "    'five = {three = 3, two = 2}',\n",
    "    'life',\n",
    "    '{life = {TRUE}}',\n",
    "    '8',\n",
    "    9999,\n",
    "    '{}',\n",
    "    '0',\n",
    "    '8 = 8',\n",
    "    '20:00',\n",
    "    'connection = {hostname = my.server.host, port = 22, username = user}, command = {stop = sfs2x-service stop, start = sfs2x-service start}, path = /opt/SFS_dev/SFS2X/, health_status_url = https://my.server.host:8444/healthcheck/get',\n",
    "    'allow = {124588016, -283746251}, superuser = {124588016, 211631602, 106874883, 231976253}',\n",
    "    'name = {{itemsCount = 4, price = 100}, name = {count = 4, total = FALSE}}',\n",
    "    'id = act00040, trigger = {and = {eq = {08.04.2019, now} | more = {50, hands} | or = {more = {10, consecutiveDays} | more = {100, gold}}}} | id = act00050, trigger = {and = {more = {50, hands}}}',\n",
    "    'id = act00040, trigger = {and = {eq = {now = 10.04.2019} | more = {hands = 50} | or = {more = {consecutiveDays = 50} | more = {gold = 100}}}} | id = act00050, trigger = {and = {more = {hands = 50}}}',\n",
    "    'a = nan',\n",
    "    'popup_icon = {left = -1, top = -28}, widget_icon = {{pen, 0, 0, 0}, {sample, 8, 8, 8}, top = 10}, mobile_banner = {title_position = {left = \"0x90532022\", \"oppa\", \"work!\", right = 10, top = 11}}, popup_scheme = \"0xFF000000,0xFF000000,0xFF000000,0x30c77263,0xFFf56b45,0xFF152645,0xFFe48f72,0xFF3d407a,0xFF000000\"',\n",
    "    '\"payload.cash_delta_ratio\", \">=\", 10\"o\"0 | payload.bankroll_delta, \">=\", 50000',\n",
    "    '\"<color=#6aefff>{New, new2 = 5} round</color> has | begun\"',\n",
    "    'minSmallBlind = 0, maxSmallBlind = 3, chipsIdList = ChipsSet_01, chipsPrefix = Chips_1_, chipsAmountList = {1, 5, 10, 10, 10, 25, 25, 50, 50, 50} | minSmallBlind = 3, maxSmallBlind = 12.5, chipsIdList = ChipsSet_02, chipsPrefix = Chips_2_, chipsAmountList = {1, 5, 10, 5, 5, 10, 25, 50, 50, 50} | minSmallBlind = 12.5, maxSmallBlind = 60, chipsIdList = ChipsSet_03, chipsPrefix = Chips_3_, chipsAmountList = {1, 5, 10, 5, 5, 10, 25, 50, 50, 50} | minSmallBlind = 60, maxSmallBlind = 300, chipsIdList = ChipsSet_04, chipsPrefix = Chips_4_, chipsAmountList = {1, 5, 10, 5, 5, 10, 25, 50, 50, 50} | minSmallBlind = 300, maxSmallBlind = 1250, chipsIdList = ChipsSet_05, chipsPrefix = Chips_5_, chipsAmountList = {1, 5, 10, 5, 5, 10, 25, 50, 50, 50} | minSmallBlind = 1250, maxSmallBlind = 6000, chipsIdList = ChipsSet_06, chipsPrefix = Chips_6_, chipsAmountList = {1, 5, 10, 5, 5, 10, 25, 50, 50, 50} | minSmallBlind = 6000, maxSmallBlind = 30000, chipsIdList = ChipsSet_07, chipsPrefix = Chips_7_, chipsAmountList = {1, 5, 10, 5, 5, 10, 25, 50, 50, 50} | minSmallBlind = 30000, maxSmallBlind = 125000, chipsIdList = ChipsSet_08, chipsPrefix = Chips_8_, chipsAmountList = {1, 5, 10, 5, 10, 10, 25, 50, 50, 50} | minSmallBlind = 125000, maxSmallBlind = 350000, chipsIdList = ChipsSet_09, chipsPrefix = Chips_9_, chipsAmountList = {1, 5, 10, 1, 1, 5, 5, 10, 25, 50} | minSmallBlind = 750000, maxSmallBlind = 1000000, chipsIdList = ChipsSet_10, chipsPrefix = Chips_10_, chipsAmountList = {1, 5, 10, 5, 5, 10, 25, 50, 50, 50} | minSmallBlind = 1000000, maxSmallBlind = 999999999999, chipsIdList = ChipsSet_11, chipsPrefix = Chips_11_, chipsAmountList = {1, 5, 10, 5, 5, 5, 10, 25, 50, 50}',\n",
    "    '{life = 0}',\n",
    "    '{}',\n",
    "    '{{[0, [8, [3, \"a\", {6: 8}]]], {2 = [8]}}, 9 = [\"5\"], {[{6: 8}]}}',\n",
    "    \"{['argh', 'hhh']}\",\n",
    "    \"{['one', ['two', 3, 4], {'one': 'the choose one!'}]}\",\n",
    "    \"{one, {two, 3, 4}, {one = the choose one!}}\",\n",
    "    'one!list = two, item = {count = 4.5, price = 100, name!list = {name1 = name}}',\n",
    "    'id = {1000001}, name = {big fast and order}, tribe = {}, atk!list = {10, 30}, hp!list = {0}',\n",
    "    '\"<color=#6aefff>New round</color> has | begun\"',\n",
    "    '\"{0} made a <color=#B451E9>bet</color> {1}\"',\n",
    "    ]\n",
    "\n",
    "\n",
    "strings_txt = [\n",
    "    '<color=#6aefff>New round</color> has | begun',\n",
    "    '{0} made a <color=#B451E9>bet</color> {1}',\n",
    "    ]\n",
    "\n",
    "# Доступные параметры конвертора. \n",
    "# Все значения, кроме parser_version указаны по умолчанию. \n",
    "# Версия парсера по умолчанию - 'v1'\n",
    "params = {\n",
    "    'br_list': '[]',\n",
    "    'br_block': '{}',\n",
    "    'sep_func': '!',\n",
    "    'sep_block': '|',\n",
    "    'sep_base': ',',\n",
    "    'sep_dict': '=',\n",
    "    'raw_pattern': '\"',\n",
    "    'to_num': True,\n",
    "    'always_unwrap': False,\n",
    "    'parser_version': 'v2',\n",
    "    'is_raw': False\n",
    "    }\n",
    "\n",
    "converter = gsconfig.ConfigJSONConverter(params)\n",
    "\n",
    "for string in strings_in:\n",
    "    result = converter.jsonify(string)\n",
    "    print(json.dumps(result, indent=4))\n"
   ]
  },
  {
   "cell_type": "markdown",
   "metadata": {},
   "source": [
    "### Параметры конвертора"
   ]
  },
  {
   "cell_type": "markdown",
   "metadata": {},
   "source": [
    "- br_list: Тип скобок выделяющих списки. '[]' - по умолчанию. **ВАЖНО!** Нельзя переопределять значение по умолчанию! Внутри допустима любая вложенность, но исключительно в синтаксисе python.\n",
    "- br_block: Тип скобок выделяющих подблоки. '{}' - по умолчанию.\n",
    "- sep_func: Разделитель указания функций. '!' - по умолчанию. Например: key!list означает, что содержимое ключа key обязательно будет списком.\n",
    "- sep_block: Синтаксический сахар для разделения блоков. '|' - по умолчанию.\n",
    "- sep_base: Базовый разделитель элементов. ',' - по умолчанию.\n",
    "- sep_dict: Разделитель ключ-значение элементов словаря. '=' - по умолчанию.\n",
    "- raw_pattern': Символ маркирующий строку которую не нужно разбирать. '\"' (двойная кавычка) - по умолчанию. Строка которую не нужно разбирать должна быть обрамлена этим символом с обеих сторон.\n",
    "- to_num: Нужно ли пытаться преобразовывать значения в числа. True - по умолчанию.\n",
    "- always_unwrap: Нужно ли всегда вытаскивать словари из списков единичной длины.\n",
    "    - False (по умолчанию) -- вытаскивает из списков все объекты КРОМЕ словарей.\n",
    "    - True -- вынимает из список ВСЕ типы объектов, включая словари. **ВАЖНО!** Настройка игнорирует команды 'v2', если список можно развернуть, то он обязательно будет развернут!\n",
    "- parser_version: 'v1' -- Версия парсера\n",
    "    - 'v1' -- (по умолчанию) Все словари всегда будут **ЗАВЕРНУТЫ** в список!\n",
    "    - 'v2' -- Разворачивает все списки единичной длины. Для заворачивания необходимо указать в ключе команду '!list' или [] (синтаксический сахар).\n",
    "- is_raw: Указание надо ли парсить строку или нет. False - по умолчанию.\n"
   ]
  },
  {
   "cell_type": "markdown",
   "metadata": {},
   "source": [
    "### Команды парсера 'v2'"
   ]
  },
  {
   "cell_type": "markdown",
   "metadata": {},
   "source": [
    "- list - заворачивает содержимое в список только если это не список\n",
    "- flist - всегда заворачивает в дополнительный список, даже списки!"
   ]
  },
  {
   "cell_type": "markdown",
   "metadata": {},
   "source": [
    "### Тестовые сценарии конвертора"
   ]
  },
  {
   "cell_type": "code",
   "execution_count": 2,
   "metadata": {},
   "outputs": [
    {
     "name": "stdout",
     "output_type": "stream",
     "text": [
      "v1. Всего ошибок: 0\n",
      "v2. Всего ошибок: 0\n"
     ]
    }
   ],
   "source": [
    "import json\n",
    "import gsconfig\n",
    "\n",
    "with open(\"converter_test_cases.json\", \"r\") as f:\n",
    "    cases = json.load(f)\n",
    "\n",
    "for case in cases:\n",
    "    error_count = 0\n",
    "    for s_in, s_out in case['data']:\n",
    "\n",
    "        converter = gsconfig.ConfigJSONConverter({'parser_version': case['version']})\n",
    "        result = converter.jsonify(s_in)\n",
    "\n",
    "        try:\n",
    "            assert json.dumps(result) == json.dumps(s_out)\n",
    "        except AssertionError:\n",
    "            error_count += 1\n",
    "            print('='*30)\n",
    "            print(f'{case[\"version\"]}: {s_in}')\n",
    "            print(json.dumps(result, indent = 4))\n",
    "            print(json.dumps(s_out, indent = 4))\n",
    "    else:\n",
    "        print(f'{case[\"version\"]}. Всего ошибок: {error_count}')\n"
   ]
  }
 ],
 "metadata": {
  "kernelspec": {
   "display_name": "llm",
   "language": "python",
   "name": "python3"
  },
  "language_info": {
   "codemirror_mode": {
    "name": "ipython",
    "version": 3
   },
   "file_extension": ".py",
   "mimetype": "text/x-python",
   "name": "python",
   "nbconvert_exporter": "python",
   "pygments_lexer": "ipython3",
   "version": "3.10.13"
  }
 },
 "nbformat": 4,
 "nbformat_minor": 2
}
