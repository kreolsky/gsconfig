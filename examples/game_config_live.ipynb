{
 "cells": [
  {
   "cell_type": "code",
   "execution_count": 6,
   "metadata": {},
   "outputs": [],
   "source": [
    "import gsconfig\n",
    "\n",
    "document_id = \"1Bl0jxH-sdna8ulbebI2V2QbEmh1LupQZiTEuDe-1Huo\"\n",
    "config_document = gsconfig.GameConfigLite(document_id)\n",
    "output_folder = 'json'\n"
   ]
  },
  {
   "cell_type": "markdown",
   "metadata": {},
   "source": [
    "### Параметры мобов"
   ]
  },
  {
   "cell_type": "code",
   "execution_count": 2,
   "metadata": {},
   "outputs": [
    {
     "name": "stdout",
     "output_type": "stream",
     "text": [
      "TutorialCowSettings - was saved!\n",
      "SheepSettings - was saved!\n",
      "PigSettings - was saved!\n",
      "CowSettings - was saved!\n",
      "ShepherdSettings - was saved!\n",
      "CowardlyFarmerSettings - was saved!\n",
      "SheepFatSettings - was saved!\n",
      "FarmerSettings - was saved!\n",
      "PigFatSettings - was saved!\n",
      "ShovelmanSettings - was saved!\n",
      "FishermanSettings - was saved!\n",
      "ForkmanSettings - was saved!\n"
     ]
    }
   ],
   "source": [
    "# Шаблон и данные\n",
    "template = gsconfig.Template('templates/MobSettings.template')\n",
    "config_page = config_document['mobs.json']\n",
    "\n",
    "# Собрать конфиги из шаблона и сохранить\n",
    "for item in config_page:\n",
    "    config = template.make(item)\n",
    "    gsconfig.tools.save_json(config, item['name'], output_folder)\n",
    "    print(f\"{item['name']} - was saved!\")\n"
   ]
  },
  {
   "cell_type": "markdown",
   "metadata": {},
   "source": [
    "### Прокачка тарелки"
   ]
  },
  {
   "cell_type": "code",
   "execution_count": 3,
   "metadata": {},
   "outputs": [
    {
     "name": "stdout",
     "output_type": "stream",
     "text": [
      "StatsUpgradesSettings - was saved!\n"
     ]
    }
   ],
   "source": [
    "# Шаблон и данные\n",
    "template = gsconfig.Template('templates/StatsUpgradesSettings.template')\n",
    "config_page = config_document['upgrades.json']\n",
    "\n",
    "# Забрать данные со страницы\n",
    "config_page.set_schema(('key', 'data'))\n",
    "config_data = config_page.get()\n",
    "\n",
    "# Собрать конфиг из шаблона и сохранить\n",
    "config_upd = template.make(config_data)\n",
    "gsconfig.tools.save_json(config_upd, config_data['name'], output_folder)\n",
    "print(f\"{config_data['name']} - was saved!\")\n"
   ]
  },
  {
   "cell_type": "markdown",
   "metadata": {},
   "source": [
    "### Игровые ресурсы"
   ]
  },
  {
   "cell_type": "code",
   "execution_count": 4,
   "metadata": {},
   "outputs": [
    {
     "name": "stdout",
     "output_type": "stream",
     "text": [
      "ResourceConfig - was saved!\n"
     ]
    }
   ],
   "source": [
    "# Шаблон и данные\n",
    "template = gsconfig.Template('templates/ResourceConfig.template')\n",
    "config_page = config_document['resources.json']\n",
    "\n",
    "# Забрать данные со страницы\n",
    "config_page.set_schema(('key', 'data'))\n",
    "config_data = config_page.get()\n",
    "\n",
    "# Собрать конфиг из шаблона и сохранить\n",
    "config_upd = template.make(config_data)\n",
    "gsconfig.tools.save_json(config_upd, config_data['name'], output_folder)\n",
    "print(f\"{config_data['name']} - was saved!\")\n"
   ]
  },
  {
   "cell_type": "markdown",
   "metadata": {},
   "source": [
    "### Зоны обитания мобов"
   ]
  },
  {
   "cell_type": "code",
   "execution_count": 5,
   "metadata": {},
   "outputs": [
    {
     "name": "stdout",
     "output_type": "stream",
     "text": [
      "Area [1] - was saved!\n",
      "Area [2] - was saved!\n",
      "Area [3] - was saved!\n",
      "Area [4] - was saved!\n",
      "Area [5] - was saved!\n",
      "Area [6] - was saved!\n",
      "Area [7] - was saved!\n",
      "Area [8] - was saved!\n",
      "Area [9] - was saved!\n"
     ]
    }
   ],
   "source": [
    "\n",
    "# Шаблон и данные\n",
    "template = gsconfig.Template('templates/AreaBotConfig.template')\n",
    "config_page = config_document['areas.json']\n",
    "\n",
    "# Собрать конфиги из шаблона и сохранить\n",
    "for item in config_page:\n",
    "    config = template.make(item)\n",
    "    gsconfig.tools.save_json(config, item['name'], output_folder)\n",
    "    print(f\"{item['name']} - was saved!\")\n"
   ]
  }
 ],
 "metadata": {
  "kernelspec": {
   "display_name": "llm",
   "language": "python",
   "name": "python3"
  },
  "language_info": {
   "codemirror_mode": {
    "name": "ipython",
    "version": 3
   },
   "file_extension": ".py",
   "mimetype": "text/x-python",
   "name": "python",
   "nbconvert_exporter": "python",
   "pygments_lexer": "ipython3",
   "version": "3.10.13"
  }
 },
 "nbformat": 4,
 "nbformat_minor": 2
}
