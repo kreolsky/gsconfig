{
 "cells": [
  {
   "cell_type": "code",
   "execution_count": 3,
   "metadata": {},
   "outputs": [],
   "source": [
    "import gsconfig\n",
    "\n",
    "document_id = \"1H8vkzaZZVOgtYrtWHm792FGWaSBhJZNiB0ckco_RGp0\"\n",
    "client = gsconfig.GoogleOauth().client\n",
    "config_document = gsconfig.GameConfigLite(document_id, client)\n",
    "output_folder = 'json'\n"
   ]
  },
  {
   "cell_type": "markdown",
   "metadata": {},
   "source": [
    "### Параметры мобов"
   ]
  },
  {
   "cell_type": "code",
   "execution_count": 4,
   "metadata": {},
   "outputs": [
    {
     "name": "stdout",
     "output_type": "stream",
     "text": [
      "TutorialCowSettings - was saved!\n",
      "SheepSettings - was saved!\n",
      "SheepFatSettings - was saved!\n",
      "PigSettings - was saved!\n",
      "PigFatSettings - was saved!\n",
      "CowSettings - was saved!\n",
      "ShepherdSettings - was saved!\n",
      "ForkmanSettings - was saved!\n",
      "ShovelmanSettings - was saved!\n",
      "ShovelmanParticlesSettings - was saved!\n",
      "FarmerSettings - was saved!\n",
      "Shepherd2Settings - was saved!\n",
      "FarmerParticlesSettings - was saved!\n",
      "PigFat2Settings - was saved!\n",
      "SombreroSettings - was saved!\n",
      "CowardlyFarmerSettings - was saved!\n",
      "CowardlyFarmerParticlesSettings - was saved!\n",
      "FishermanSettings - was saved!\n",
      "Forkman2Settings - was saved!\n",
      "ForkmanParticlesSettings - was saved!\n",
      "Shovelman2Settings - was saved!\n",
      "CowardlyFarmerParticles2Settings - was saved!\n",
      "SheepFat2Settings - was saved!\n",
      "BucketmanSettings - was saved!\n",
      "ShovelmanParticles2Settings - was saved!\n",
      "CowardlyFarmerParticles3Settings - was saved!\n",
      "ShepherdParticlesSettings - was saved!\n",
      "SheepGoldQ1_1Settings - was saved!\n",
      "SheepGoldQ1_2Settings - was saved!\n",
      "SheepGoldQ2_1Settings - was saved!\n",
      "SheepGoldQ2_2Settings - was saved!\n",
      "OstrichQ2_1Settings - was saved!\n",
      "OstrichQ2_2Settings - was saved!\n",
      "OstrichQ2_3Settings - was saved!\n",
      "BuffaloQ2_1Settings - was saved!\n",
      "BuffaloQ2_2Settings - was saved!\n",
      "BuffaloQ3_1Settings - was saved!\n",
      "BuffaloQ3_2Settings - was saved!\n",
      "BuffaloQ3_3Settings - was saved!\n",
      "SheepGoldQ3_1Settings - was saved!\n",
      "SheepGoldQ3_2Settings - was saved!\n",
      "SheepGoldQ3_3Settings - was saved!\n",
      "OstrichQ3_1Settings - was saved!\n",
      "OstrichQ3_2Settings - was saved!\n",
      "BuffaloD3_1Settings - was saved!\n",
      "BuffaloD3_2Settings - was saved!\n",
      "BuffaloD3_3Settings - was saved!\n",
      "SheepGoldD3_1Settings - was saved!\n",
      "SheepGoldD3_2Settings - was saved!\n",
      "OstrichD3_1Settings - was saved!\n",
      "OstrichD3_2Settings - was saved!\n",
      "OstrichD4_1Settings - was saved!\n",
      "OstrichD4_2Settings - was saved!\n",
      "OstrichD4_3Settings - was saved!\n",
      "SheepGoldD4_1Settings - was saved!\n",
      "SheepGoldD4_2Settings - was saved!\n",
      "BuffaloD4_1Settings - was saved!\n",
      "BuffaloD4_2Settings - was saved!\n"
     ]
    }
   ],
   "source": [
    "# Шаблон и данные\n",
    "template = gsconfig.Template('templates/MobSettings.template')\n",
    "config_page = config_document['mobs.json']\n",
    "\n",
    "# Собрать конфиги из шаблона и сохранить\n",
    "for item in config_page:\n",
    "    config = template.make(item)\n",
    "    gsconfig.tools.save_json(config, item['name'], output_folder)\n",
    "    print(f\"{item['name']} - was saved!\")\n"
   ]
  },
  {
   "cell_type": "markdown",
   "metadata": {},
   "source": [
    "### Прокачка тарелки"
   ]
  },
  {
   "cell_type": "code",
   "execution_count": 3,
   "metadata": {},
   "outputs": [
    {
     "name": "stdout",
     "output_type": "stream",
     "text": [
      "StatsUpgradesSettings - was saved!\n"
     ]
    }
   ],
   "source": [
    "# Шаблон и данные\n",
    "template = gsconfig.Template('templates/StatsUpgradesSettings.template')\n",
    "config_page = config_document['upgrades.json']\n",
    "\n",
    "# Забрать данные со страницы\n",
    "config_page.set_schema(('key', 'data'))\n",
    "config_data = config_page.get()\n",
    "\n",
    "# Собрать конфиг из шаблона и сохранить\n",
    "config_upd = template.make(config_data)\n",
    "gsconfig.tools.save_json(config_upd, config_data['name'], output_folder)\n",
    "print(f\"{config_data['name']} - was saved!\")\n"
   ]
  },
  {
   "cell_type": "markdown",
   "metadata": {},
   "source": [
    "### Игровые ресурсы"
   ]
  },
  {
   "cell_type": "code",
   "execution_count": 4,
   "metadata": {},
   "outputs": [
    {
     "name": "stdout",
     "output_type": "stream",
     "text": [
      "ResourceConfig - was saved!\n"
     ]
    }
   ],
   "source": [
    "# Шаблон и данные\n",
    "template = gsconfig.Template('templates/ResourceConfig.template')\n",
    "config_page = config_document['resources.json']\n",
    "\n",
    "# Забрать данные со страницы\n",
    "config_page.set_schema(('key', 'data'))\n",
    "config_data = config_page.get()\n",
    "\n",
    "# Собрать конфиг из шаблона и сохранить\n",
    "config_upd = template.make(config_data)\n",
    "gsconfig.tools.save_json(config_upd, config_data['name'], output_folder)\n",
    "print(f\"{config_data['name']} - was saved!\")\n"
   ]
  },
  {
   "cell_type": "markdown",
   "metadata": {},
   "source": [
    "### Зоны обитания мобов"
   ]
  },
  {
   "cell_type": "code",
   "execution_count": 5,
   "metadata": {},
   "outputs": [
    {
     "name": "stdout",
     "output_type": "stream",
     "text": [
      "Area [1] - was saved!\n",
      "Area [2] - was saved!\n",
      "Area [3] - was saved!\n",
      "Area [4] - was saved!\n",
      "Area [5] - was saved!\n",
      "Area [6] - was saved!\n",
      "Area [7] - was saved!\n",
      "Area [8] - was saved!\n",
      "Area [9] - was saved!\n"
     ]
    }
   ],
   "source": [
    "\n",
    "# Шаблон и данные\n",
    "template = gsconfig.Template('templates/AreaBotConfig.template')\n",
    "config_page = config_document['areas.json']\n",
    "\n",
    "# Собрать конфиги из шаблона и сохранить\n",
    "for item in config_page:\n",
    "    config = template.make(item)\n",
    "    gsconfig.tools.save_json(config, item['name'], output_folder)\n",
    "    print(f\"{item['name']} - was saved!\")\n"
   ]
  }
 ],
 "metadata": {
  "kernelspec": {
   "display_name": "llm",
   "language": "python",
   "name": "python3"
  },
  "language_info": {
   "codemirror_mode": {
    "name": "ipython",
    "version": 3
   },
   "file_extension": ".py",
   "mimetype": "text/x-python",
   "name": "python",
   "nbconvert_exporter": "python",
   "pygments_lexer": "ipython3",
   "version": "3.11.8"
  }
 },
 "nbformat": 4,
 "nbformat_minor": 2
}
