{
 "cells": [
  {
   "cell_type": "markdown",
   "metadata": {},
   "source": [
    "### Custom variable pattern"
   ]
  },
  {
   "cell_type": "code",
   "execution_count": 6,
   "metadata": {},
   "outputs": [
    {
     "name": "stdout",
     "output_type": "stream",
     "text": [
      "\n",
      "- subSTRing внутри строки\n",
      "- Строка подстрока в кавычках: \"Woohooo!\"\n",
      "- Явное указание на строку: \"subSTRing\"\n",
      "- Сколько коров?\n",
      "- Вот столько: 10 (int) или 10.9 (source) \n",
      "- И еще давай словарик\n",
      "- Вот словарик: {\"key\": \"value\", \"list\": [{\"one\": \"odin\"}, \"two\", [\"three\", \"four\", \"five\"]]}\n",
      "- И пустота: \"\"\n",
      "\n"
     ]
    }
   ],
   "source": [
    "import gsconfig\n",
    "\n",
    "# Кастомный паттерн распознавания переменных в шаблоне\n",
    "pattern = r'\\{%\\s*([a-z0-9_!]+)\\s*%\\}'\n",
    "template_body = \"\"\"\n",
    "- {% substring %} внутри строки\n",
    "- Строка подстрока в кавычках: \"{% variable %}\"\n",
    "- Явное указание на строку: {% substring!string %}\n",
    "- Сколько коров?\n",
    "- Вот столько: {% cow!int %} (int) или {% cow %} (source) \n",
    "- И еще давай словарик\n",
    "- Вот словарик: {% dict %}\n",
    "- И пустота: \"{% empty %}\"\n",
    "\"\"\"\n",
    "template = gsconfig.Template(body=template_body, pattern=pattern)\n",
    "\n",
    "# Словарь с переменными для замены\n",
    "data = {\n",
    "    'variable': 'Woohooo!',\n",
    "    'substring': 'subSTRing',\n",
    "    'cow': 10.9,\n",
    "    'dict': {'key': 'value', 'list': [{'one': 'odin'}, 'two', ['three', 'four', 'five']]},\n",
    "    'empty': ''\n",
    "}\n",
    "\n",
    "r = template.make(data)\n",
    "print(r)\n"
   ]
  },
  {
   "cell_type": "markdown",
   "metadata": {},
   "source": [
    "### Default variable pattern + template file"
   ]
  },
  {
   "cell_type": "code",
   "execution_count": 12,
   "metadata": {},
   "outputs": [
    {
     "name": "stdout",
     "output_type": "stream",
     "text": [
      "{\n",
      "    \"string\": \"Woohooo!\",\n",
      "    \"string_with_command\": \"Woohooo!\",\n",
      "    \"string_as_substring\": \"Звучит как subSTRing. Похоже?\",\n",
      "    \"int_as_substring\": \"Звучит как 10.9?\",\n",
      "    \"digit_int\": 10,\n",
      "    \"digit_source\": 10.9,\n",
      "    \"dict\": {\"key\": \"value\", \"list\": [{\"one\": \"odin\"}, \"two\", [\"three\", \"four\", \"five\"]]},\n",
      "    \"empty\": \"\"\n",
      "}\n"
     ]
    }
   ],
   "source": [
    "import gsconfig\n",
    "import json\n",
    "\n",
    "template_path = 'template.template'\n",
    "template = gsconfig.Template(path=template_path)\n",
    "\n",
    "# Словарь с переменными для замены\n",
    "data = {\n",
    "    'variable': 'Woohooo!',\n",
    "    'substring': 'subSTRing',\n",
    "    'cow': 10.9,\n",
    "    'dict': {'key': 'value', 'list': [{'one': 'odin'}, 'two', ['three', 'four', 'five']]},\n",
    "    'empty': ''\n",
    "}\n",
    "\n",
    "# r = json.loads(template.make(data))\n",
    "r = template.make(data)\n",
    "print(r)\n",
    "\n"
   ]
  }
 ],
 "metadata": {
  "kernelspec": {
   "display_name": "llm",
   "language": "python",
   "name": "python3"
  },
  "language_info": {
   "codemirror_mode": {
    "name": "ipython",
    "version": 3
   },
   "file_extension": ".py",
   "mimetype": "text/x-python",
   "name": "python",
   "nbconvert_exporter": "python",
   "pygments_lexer": "ipython3",
   "version": "3.10.13"
  }
 },
 "nbformat": 4,
 "nbformat_minor": 2
}
